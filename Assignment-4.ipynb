{
 "cells": [
  {
   "cell_type": "code",
   "execution_count": 1,
   "id": "1ac8368e",
   "metadata": {},
   "outputs": [],
   "source": [
    "import os\n",
    "import glob\n",
    "import matplotlib.pyplot as plt\n",
    "import cv2\n",
    "import numpy as np\n",
    "import pandas as pd\n",
    "from sklearn import preprocessing\n",
    "import warnings\n",
    "warnings.filterwarnings(\"ignore\")"
   ]
  },
  {
   "cell_type": "code",
   "execution_count": 2,
   "id": "192a9365",
   "metadata": {},
   "outputs": [],
   "source": [
    "dog_images = glob.glob('/Users/Assignment/Images/*/*')\n",
    "breeds = glob.glob('/Users/Assignment/Images/*')\n",
    "annotations = glob.glob('/Users/Assignment/Annotation/*/*')\n",
    "cropped = \"./Cropped_1/\""
   ]
  },
  {
   "cell_type": "markdown",
   "id": "a7489251",
   "metadata": {},
   "source": [
    "# Cropping and Resize Images in Your 4-class Images Dataset"
   ]
  },
  {
   "cell_type": "code",
   "execution_count": 3,
   "id": "b32ae2bf",
   "metadata": {},
   "outputs": [],
   "source": [
    "four_classes=['papillon','bluetick','Dandie_Dinmont','Pembroke']"
   ]
  },
  {
   "cell_type": "code",
   "execution_count": 4,
   "id": "e914b7e5",
   "metadata": {},
   "outputs": [],
   "source": [
    "def get_bounding_boxes(annot):\n",
    "    xml = annot\n",
    "    tree = ET.parse(xml)\n",
    "    root = tree.getroot()\n",
    "    objects = root.findall('object')\n",
    "    bbox = []\n",
    "    for o in objects:\n",
    "        bndbox = o.find('bndbox')\n",
    "        xmin = int(bndbox.find('xmin').text)\n",
    "        ymin = int(bndbox.find('ymin').text)\n",
    "        xmax = int(bndbox.find('xmax').text)\n",
    "        ymax = int(bndbox.find('ymax').text)\n",
    "        bbox.append((xmin,ymin,xmax,ymax))\n",
    "    return bbox"
   ]
  },
  {
   "cell_type": "code",
   "execution_count": 5,
   "id": "db091a6d",
   "metadata": {},
   "outputs": [],
   "source": [
    "def get_image(annot):\n",
    "    img_path = '/Users/Assignment/Images/'\n",
    "    file = annot.split('/')\n",
    "    img_filename = img_path + file[-2]+'/'+file[-1]+'.jpg'\n",
    "    return img_filename"
   ]
  },
  {
   "cell_type": "code",
   "execution_count": 6,
   "id": "c65483d4",
   "metadata": {},
   "outputs": [
    {
     "data": {
      "text/plain": [
       "<Figure size 1000x600 with 0 Axes>"
      ]
     },
     "metadata": {},
     "output_type": "display_data"
    }
   ],
   "source": [
    "import xml.etree.ElementTree as ET\n",
    "from keras_preprocessing import image\n",
    "from PIL import Image\n",
    "from pathlib import Path\n",
    "plt.figure(figsize=(10,6))\n",
    "for i in range(len(dog_images)):\n",
    "    if str(dog_images[i]).split('/')[-2].split('-')[1] in four_classes:\n",
    "        bbox = get_bounding_boxes(annotations[i])\n",
    "        dog = get_image(annotations[i])\n",
    "        im = Image.open(dog)\n",
    "        for j in range(len(bbox)):\n",
    "            im2 = im.crop(bbox[j])\n",
    "            im2 = im2.resize((224,224), Image.ANTIALIAS)\n",
    "            new_path = dog.replace('/Users/Assignment/Images/','/Users/Assignment/Cropped_1/')\n",
    "            new_path = new_path.replace('.jpg','-' + str(j) + '.jpg')\n",
    "            im2=im2.convert('RGB')\n",
    "            head, tail = os.path.split(new_path)\n",
    "            Path(head).mkdir(parents=True, exist_ok=True)\n",
    "            im2.save(new_path)\n",
    "            \n",
    "# Refernce ----->https://www.kaggle.com/code/espriella/stanford-dogs-transfer-crop-stack/notebook\n"
   ]
  },
  {
   "cell_type": "code",
   "execution_count": 7,
   "id": "4024b99b",
   "metadata": {},
   "outputs": [],
   "source": [
    "images=glob.glob('/Users/Assignment/Cropped_1/*/*')"
   ]
  },
  {
   "cell_type": "code",
   "execution_count": 8,
   "id": "9a26ce02",
   "metadata": {},
   "outputs": [],
   "source": [
    "# Normalize Dataset"
   ]
  },
  {
   "cell_type": "code",
   "execution_count": 9,
   "id": "e7ce0e98",
   "metadata": {},
   "outputs": [],
   "source": [
    "import albumentations as A\n",
    "from albumentations.pytorch import ToTensorV2\n",
    "\n",
    "transforms = A.Compose([A.Resize(height = 128, width = 128),\n",
    "                        A.Normalize(),\n",
    "                        ToTensorV2()])"
   ]
  },
  {
   "cell_type": "code",
   "execution_count": 10,
   "id": "76d0c416",
   "metadata": {},
   "outputs": [],
   "source": [
    "hist=[]\n",
    "classes=[]\n",
    "for i in images:\n",
    "    image = plt.imread(i)\n",
    "    gray_image = cv2.cvtColor(image, cv2.COLOR_BGR2GRAY)\n",
    "    normalized_image = gray_image.astype(float) / 255.0\n",
    "    n = transforms(image = image)['image']\n",
    "    hist.append(n)\n",
    "    classes.append(str(i).split('/')[4].split('-')[1])"
   ]
  },
  {
   "cell_type": "code",
   "execution_count": 12,
   "id": "ac46bb00",
   "metadata": {},
   "outputs": [],
   "source": [
    "import torch\n",
    "from torch.utils.data import Dataset, DataLoader\n",
    "data_loader = DataLoader(hist, \n",
    "                         batch_size  = 32, \n",
    "                         shuffle     = False, \n",
    "                         num_workers = 2)"
   ]
  },
  {
   "cell_type": "code",
   "execution_count": 13,
   "id": "9dd5fc42",
   "metadata": {},
   "outputs": [],
   "source": [
    "import timm\n",
    "import torch.nn as nn"
   ]
  },
  {
   "cell_type": "code",
   "execution_count": 14,
   "id": "37bbc5ae",
   "metadata": {},
   "outputs": [],
   "source": [
    "model    = timm.create_model(model_name = 'resnet18', pretrained = True)\n",
    "model.fc = nn.Linear(512, 2)"
   ]
  },
  {
   "cell_type": "code",
   "execution_count": 15,
   "id": "d26b7d69",
   "metadata": {},
   "outputs": [],
   "source": [
    "def get_features(name):\n",
    "    def hook(model, input, output):\n",
    "        features[name] = output.detach()\n",
    "    return hook"
   ]
  },
  {
   "cell_type": "code",
   "execution_count": 16,
   "id": "a774c6ce",
   "metadata": {},
   "outputs": [
    {
     "data": {
      "text/plain": [
       "<torch.utils.hooks.RemovableHandle at 0x148e4cad0>"
      ]
     },
     "execution_count": 16,
     "metadata": {},
     "output_type": "execute_result"
    }
   ],
   "source": [
    "model.global_pool.register_forward_hook(get_features('feats'))"
   ]
  },
  {
   "cell_type": "code",
   "execution_count": 17,
   "id": "c0b6cf45",
   "metadata": {},
   "outputs": [],
   "source": [
    "##### FEATURE EXTRACTION LOOP\n",
    "\n",
    "# placeholders\n",
    "PREDS = []\n",
    "FEATS = []\n",
    "\n",
    "# placeholder for batch features\n",
    "features = {}\n",
    "\n",
    "# loop through batches\n",
    "for idx, inputs in enumerate(data_loader):\n",
    "\n",
    "    \n",
    "       \n",
    "    # forward pass [with feature extraction]\n",
    "    preds = model(inputs)\n",
    "    \n",
    "    # add feats and preds to lists\n",
    "    PREDS.append(preds.detach().numpy())\n",
    "    FEATS.append(features['feats'].numpy())\n",
    "\n",
    "    # early stop\n",
    "    if idx == 9:\n",
    "        break"
   ]
  },
  {
   "cell_type": "code",
   "execution_count": 18,
   "id": "0cd5f298",
   "metadata": {},
   "outputs": [
    {
     "name": "stdout",
     "output_type": "stream",
     "text": [
      "- preds shape: (320, 2)\n",
      "- feats shape: (320, 512)\n"
     ]
    }
   ],
   "source": [
    "PREDS = np.concatenate(PREDS)\n",
    "FEATS = np.concatenate(FEATS)\n",
    "\n",
    "print('- preds shape:', PREDS.shape)\n",
    "print('- feats shape:', FEATS.shape)\n",
    "# Reference---https://kozodoi.me/blog/20210527/extracting-features"
   ]
  },
  {
   "cell_type": "code",
   "execution_count": 19,
   "id": "31617f0a",
   "metadata": {},
   "outputs": [],
   "source": [
    "from sklearn.decomposition import PCA\n",
    "from sklearn.preprocessing import MinMaxScaler\n",
    "import numpy as np\n",
    "pca = PCA(n_components=2)"
   ]
  },
  {
   "cell_type": "code",
   "execution_count": 20,
   "id": "3bfa85d5",
   "metadata": {},
   "outputs": [
    {
     "data": {
      "text/plain": [
       "(786, 2)"
      ]
     },
     "execution_count": 20,
     "metadata": {},
     "output_type": "execute_result"
    }
   ],
   "source": [
    "listt=[]\n",
    "clas=[]\n",
    "for i in images:\n",
    "    img = plt.imread(i)\n",
    "    gray = cv2.cvtColor(img, cv2.COLOR_BGR2GRAY)\n",
    "    hist1 = cv2.calcHist([gray], [0], None, [256], [0,256])\n",
    "    \n",
    "    hist=hist1.flatten()\n",
    "    normalized_data = (hist - np.min(hist)) / (np.max(hist) - np.min(hist)) \n",
    "    \n",
    "    listt.append(normalized_data)\n",
    "    clas.append(str(i).split('/')[-2].split('-')[1])        \n",
    "transform=pca.fit_transform(listt)\n",
    "transform.shape"
   ]
  },
  {
   "cell_type": "code",
   "execution_count": 21,
   "id": "cadd4639",
   "metadata": {},
   "outputs": [],
   "source": [
    "data_set=pd.DataFrame(transform)"
   ]
  },
  {
   "cell_type": "code",
   "execution_count": 22,
   "id": "2bf6fdfc",
   "metadata": {},
   "outputs": [
    {
     "data": {
      "text/html": [
       "<div>\n",
       "<style scoped>\n",
       "    .dataframe tbody tr th:only-of-type {\n",
       "        vertical-align: middle;\n",
       "    }\n",
       "\n",
       "    .dataframe tbody tr th {\n",
       "        vertical-align: top;\n",
       "    }\n",
       "\n",
       "    .dataframe thead th {\n",
       "        text-align: right;\n",
       "    }\n",
       "</style>\n",
       "<table border=\"1\" class=\"dataframe\">\n",
       "  <thead>\n",
       "    <tr style=\"text-align: right;\">\n",
       "      <th></th>\n",
       "      <th>0</th>\n",
       "      <th>1</th>\n",
       "    </tr>\n",
       "  </thead>\n",
       "  <tbody>\n",
       "    <tr>\n",
       "      <th>0</th>\n",
       "      <td>-1.739353</td>\n",
       "      <td>-1.265062</td>\n",
       "    </tr>\n",
       "    <tr>\n",
       "      <th>1</th>\n",
       "      <td>-0.964784</td>\n",
       "      <td>0.884294</td>\n",
       "    </tr>\n",
       "    <tr>\n",
       "      <th>2</th>\n",
       "      <td>0.842698</td>\n",
       "      <td>-2.213536</td>\n",
       "    </tr>\n",
       "    <tr>\n",
       "      <th>3</th>\n",
       "      <td>-2.330110</td>\n",
       "      <td>1.106226</td>\n",
       "    </tr>\n",
       "    <tr>\n",
       "      <th>4</th>\n",
       "      <td>-3.633325</td>\n",
       "      <td>0.084845</td>\n",
       "    </tr>\n",
       "  </tbody>\n",
       "</table>\n",
       "</div>"
      ],
      "text/plain": [
       "          0         1\n",
       "0 -1.739353 -1.265062\n",
       "1 -0.964784  0.884294\n",
       "2  0.842698 -2.213536\n",
       "3 -2.330110  1.106226\n",
       "4 -3.633325  0.084845"
      ]
     },
     "execution_count": 22,
     "metadata": {},
     "output_type": "execute_result"
    }
   ],
   "source": [
    "data_set.head()"
   ]
  },
  {
   "cell_type": "code",
   "execution_count": 23,
   "id": "83c575de",
   "metadata": {},
   "outputs": [
    {
     "data": {
      "text/html": [
       "<style>#sk-container-id-1 {color: black;}#sk-container-id-1 pre{padding: 0;}#sk-container-id-1 div.sk-toggleable {background-color: white;}#sk-container-id-1 label.sk-toggleable__label {cursor: pointer;display: block;width: 100%;margin-bottom: 0;padding: 0.3em;box-sizing: border-box;text-align: center;}#sk-container-id-1 label.sk-toggleable__label-arrow:before {content: \"▸\";float: left;margin-right: 0.25em;color: #696969;}#sk-container-id-1 label.sk-toggleable__label-arrow:hover:before {color: black;}#sk-container-id-1 div.sk-estimator:hover label.sk-toggleable__label-arrow:before {color: black;}#sk-container-id-1 div.sk-toggleable__content {max-height: 0;max-width: 0;overflow: hidden;text-align: left;background-color: #f0f8ff;}#sk-container-id-1 div.sk-toggleable__content pre {margin: 0.2em;color: black;border-radius: 0.25em;background-color: #f0f8ff;}#sk-container-id-1 input.sk-toggleable__control:checked~div.sk-toggleable__content {max-height: 200px;max-width: 100%;overflow: auto;}#sk-container-id-1 input.sk-toggleable__control:checked~label.sk-toggleable__label-arrow:before {content: \"▾\";}#sk-container-id-1 div.sk-estimator input.sk-toggleable__control:checked~label.sk-toggleable__label {background-color: #d4ebff;}#sk-container-id-1 div.sk-label input.sk-toggleable__control:checked~label.sk-toggleable__label {background-color: #d4ebff;}#sk-container-id-1 input.sk-hidden--visually {border: 0;clip: rect(1px 1px 1px 1px);clip: rect(1px, 1px, 1px, 1px);height: 1px;margin: -1px;overflow: hidden;padding: 0;position: absolute;width: 1px;}#sk-container-id-1 div.sk-estimator {font-family: monospace;background-color: #f0f8ff;border: 1px dotted black;border-radius: 0.25em;box-sizing: border-box;margin-bottom: 0.5em;}#sk-container-id-1 div.sk-estimator:hover {background-color: #d4ebff;}#sk-container-id-1 div.sk-parallel-item::after {content: \"\";width: 100%;border-bottom: 1px solid gray;flex-grow: 1;}#sk-container-id-1 div.sk-label:hover label.sk-toggleable__label {background-color: #d4ebff;}#sk-container-id-1 div.sk-serial::before {content: \"\";position: absolute;border-left: 1px solid gray;box-sizing: border-box;top: 0;bottom: 0;left: 50%;z-index: 0;}#sk-container-id-1 div.sk-serial {display: flex;flex-direction: column;align-items: center;background-color: white;padding-right: 0.2em;padding-left: 0.2em;position: relative;}#sk-container-id-1 div.sk-item {position: relative;z-index: 1;}#sk-container-id-1 div.sk-parallel {display: flex;align-items: stretch;justify-content: center;background-color: white;position: relative;}#sk-container-id-1 div.sk-item::before, #sk-container-id-1 div.sk-parallel-item::before {content: \"\";position: absolute;border-left: 1px solid gray;box-sizing: border-box;top: 0;bottom: 0;left: 50%;z-index: -1;}#sk-container-id-1 div.sk-parallel-item {display: flex;flex-direction: column;z-index: 1;position: relative;background-color: white;}#sk-container-id-1 div.sk-parallel-item:first-child::after {align-self: flex-end;width: 50%;}#sk-container-id-1 div.sk-parallel-item:last-child::after {align-self: flex-start;width: 50%;}#sk-container-id-1 div.sk-parallel-item:only-child::after {width: 0;}#sk-container-id-1 div.sk-dashed-wrapped {border: 1px dashed gray;margin: 0 0.4em 0.5em 0.4em;box-sizing: border-box;padding-bottom: 0.4em;background-color: white;}#sk-container-id-1 div.sk-label label {font-family: monospace;font-weight: bold;display: inline-block;line-height: 1.2em;}#sk-container-id-1 div.sk-label-container {text-align: center;}#sk-container-id-1 div.sk-container {/* jupyter's `normalize.less` sets `[hidden] { display: none; }` but bootstrap.min.css set `[hidden] { display: none !important; }` so we also need the `!important` here to be able to override the default hidden behavior on the sphinx rendered scikit-learn.org. See: https://github.com/scikit-learn/scikit-learn/issues/21755 */display: inline-block !important;position: relative;}#sk-container-id-1 div.sk-text-repr-fallback {display: none;}</style><div id=\"sk-container-id-1\" class=\"sk-top-container\"><div class=\"sk-text-repr-fallback\"><pre>KMeans(init=&#x27;random&#x27;, n_clusters=4, n_init=20)</pre><b>In a Jupyter environment, please rerun this cell to show the HTML representation or trust the notebook. <br />On GitHub, the HTML representation is unable to render, please try loading this page with nbviewer.org.</b></div><div class=\"sk-container\" hidden><div class=\"sk-item\"><div class=\"sk-estimator sk-toggleable\"><input class=\"sk-toggleable__control sk-hidden--visually\" id=\"sk-estimator-id-1\" type=\"checkbox\" checked><label for=\"sk-estimator-id-1\" class=\"sk-toggleable__label sk-toggleable__label-arrow\">KMeans</label><div class=\"sk-toggleable__content\"><pre>KMeans(init=&#x27;random&#x27;, n_clusters=4, n_init=20)</pre></div></div></div></div></div>"
      ],
      "text/plain": [
       "KMeans(init='random', n_clusters=4, n_init=20)"
      ]
     },
     "execution_count": 23,
     "metadata": {},
     "output_type": "execute_result"
    }
   ],
   "source": [
    "from sklearn.cluster import KMeans\n",
    "kmean = KMeans(n_clusters=4,n_init=20,init='random')\n",
    "kmean.fit(data_set)"
   ]
  },
  {
   "cell_type": "code",
   "execution_count": 24,
   "id": "24448589",
   "metadata": {},
   "outputs": [],
   "source": [
    "kmean_lab=kmean.labels_"
   ]
  },
  {
   "cell_type": "code",
   "execution_count": 25,
   "id": "beeec3b1",
   "metadata": {},
   "outputs": [
    {
     "data": {
      "text/html": [
       "<style>#sk-container-id-2 {color: black;}#sk-container-id-2 pre{padding: 0;}#sk-container-id-2 div.sk-toggleable {background-color: white;}#sk-container-id-2 label.sk-toggleable__label {cursor: pointer;display: block;width: 100%;margin-bottom: 0;padding: 0.3em;box-sizing: border-box;text-align: center;}#sk-container-id-2 label.sk-toggleable__label-arrow:before {content: \"▸\";float: left;margin-right: 0.25em;color: #696969;}#sk-container-id-2 label.sk-toggleable__label-arrow:hover:before {color: black;}#sk-container-id-2 div.sk-estimator:hover label.sk-toggleable__label-arrow:before {color: black;}#sk-container-id-2 div.sk-toggleable__content {max-height: 0;max-width: 0;overflow: hidden;text-align: left;background-color: #f0f8ff;}#sk-container-id-2 div.sk-toggleable__content pre {margin: 0.2em;color: black;border-radius: 0.25em;background-color: #f0f8ff;}#sk-container-id-2 input.sk-toggleable__control:checked~div.sk-toggleable__content {max-height: 200px;max-width: 100%;overflow: auto;}#sk-container-id-2 input.sk-toggleable__control:checked~label.sk-toggleable__label-arrow:before {content: \"▾\";}#sk-container-id-2 div.sk-estimator input.sk-toggleable__control:checked~label.sk-toggleable__label {background-color: #d4ebff;}#sk-container-id-2 div.sk-label input.sk-toggleable__control:checked~label.sk-toggleable__label {background-color: #d4ebff;}#sk-container-id-2 input.sk-hidden--visually {border: 0;clip: rect(1px 1px 1px 1px);clip: rect(1px, 1px, 1px, 1px);height: 1px;margin: -1px;overflow: hidden;padding: 0;position: absolute;width: 1px;}#sk-container-id-2 div.sk-estimator {font-family: monospace;background-color: #f0f8ff;border: 1px dotted black;border-radius: 0.25em;box-sizing: border-box;margin-bottom: 0.5em;}#sk-container-id-2 div.sk-estimator:hover {background-color: #d4ebff;}#sk-container-id-2 div.sk-parallel-item::after {content: \"\";width: 100%;border-bottom: 1px solid gray;flex-grow: 1;}#sk-container-id-2 div.sk-label:hover label.sk-toggleable__label {background-color: #d4ebff;}#sk-container-id-2 div.sk-serial::before {content: \"\";position: absolute;border-left: 1px solid gray;box-sizing: border-box;top: 0;bottom: 0;left: 50%;z-index: 0;}#sk-container-id-2 div.sk-serial {display: flex;flex-direction: column;align-items: center;background-color: white;padding-right: 0.2em;padding-left: 0.2em;position: relative;}#sk-container-id-2 div.sk-item {position: relative;z-index: 1;}#sk-container-id-2 div.sk-parallel {display: flex;align-items: stretch;justify-content: center;background-color: white;position: relative;}#sk-container-id-2 div.sk-item::before, #sk-container-id-2 div.sk-parallel-item::before {content: \"\";position: absolute;border-left: 1px solid gray;box-sizing: border-box;top: 0;bottom: 0;left: 50%;z-index: -1;}#sk-container-id-2 div.sk-parallel-item {display: flex;flex-direction: column;z-index: 1;position: relative;background-color: white;}#sk-container-id-2 div.sk-parallel-item:first-child::after {align-self: flex-end;width: 50%;}#sk-container-id-2 div.sk-parallel-item:last-child::after {align-self: flex-start;width: 50%;}#sk-container-id-2 div.sk-parallel-item:only-child::after {width: 0;}#sk-container-id-2 div.sk-dashed-wrapped {border: 1px dashed gray;margin: 0 0.4em 0.5em 0.4em;box-sizing: border-box;padding-bottom: 0.4em;background-color: white;}#sk-container-id-2 div.sk-label label {font-family: monospace;font-weight: bold;display: inline-block;line-height: 1.2em;}#sk-container-id-2 div.sk-label-container {text-align: center;}#sk-container-id-2 div.sk-container {/* jupyter's `normalize.less` sets `[hidden] { display: none; }` but bootstrap.min.css set `[hidden] { display: none !important; }` so we also need the `!important` here to be able to override the default hidden behavior on the sphinx rendered scikit-learn.org. See: https://github.com/scikit-learn/scikit-learn/issues/21755 */display: inline-block !important;position: relative;}#sk-container-id-2 div.sk-text-repr-fallback {display: none;}</style><div id=\"sk-container-id-2\" class=\"sk-top-container\"><div class=\"sk-text-repr-fallback\"><pre>KMeans(n_clusters=4, n_init=10)</pre><b>In a Jupyter environment, please rerun this cell to show the HTML representation or trust the notebook. <br />On GitHub, the HTML representation is unable to render, please try loading this page with nbviewer.org.</b></div><div class=\"sk-container\" hidden><div class=\"sk-item\"><div class=\"sk-estimator sk-toggleable\"><input class=\"sk-toggleable__control sk-hidden--visually\" id=\"sk-estimator-id-2\" type=\"checkbox\" checked><label for=\"sk-estimator-id-2\" class=\"sk-toggleable__label sk-toggleable__label-arrow\">KMeans</label><div class=\"sk-toggleable__content\"><pre>KMeans(n_clusters=4, n_init=10)</pre></div></div></div></div></div>"
      ],
      "text/plain": [
       "KMeans(n_clusters=4, n_init=10)"
      ]
     },
     "execution_count": 25,
     "metadata": {},
     "output_type": "execute_result"
    }
   ],
   "source": [
    "kmeanp = KMeans(init=\"k-means++\", n_clusters=4, n_init=10)\n",
    "kmeanp.fit(data_set)"
   ]
  },
  {
   "cell_type": "code",
   "execution_count": 26,
   "id": "558383de",
   "metadata": {},
   "outputs": [],
   "source": [
    "set(kmeanp.labels_)\n",
    "kp=kmeanp.labels_"
   ]
  },
  {
   "cell_type": "code",
   "execution_count": 27,
   "id": "424e7d79",
   "metadata": {},
   "outputs": [
    {
     "data": {
      "text/html": [
       "<style>#sk-container-id-3 {color: black;}#sk-container-id-3 pre{padding: 0;}#sk-container-id-3 div.sk-toggleable {background-color: white;}#sk-container-id-3 label.sk-toggleable__label {cursor: pointer;display: block;width: 100%;margin-bottom: 0;padding: 0.3em;box-sizing: border-box;text-align: center;}#sk-container-id-3 label.sk-toggleable__label-arrow:before {content: \"▸\";float: left;margin-right: 0.25em;color: #696969;}#sk-container-id-3 label.sk-toggleable__label-arrow:hover:before {color: black;}#sk-container-id-3 div.sk-estimator:hover label.sk-toggleable__label-arrow:before {color: black;}#sk-container-id-3 div.sk-toggleable__content {max-height: 0;max-width: 0;overflow: hidden;text-align: left;background-color: #f0f8ff;}#sk-container-id-3 div.sk-toggleable__content pre {margin: 0.2em;color: black;border-radius: 0.25em;background-color: #f0f8ff;}#sk-container-id-3 input.sk-toggleable__control:checked~div.sk-toggleable__content {max-height: 200px;max-width: 100%;overflow: auto;}#sk-container-id-3 input.sk-toggleable__control:checked~label.sk-toggleable__label-arrow:before {content: \"▾\";}#sk-container-id-3 div.sk-estimator input.sk-toggleable__control:checked~label.sk-toggleable__label {background-color: #d4ebff;}#sk-container-id-3 div.sk-label input.sk-toggleable__control:checked~label.sk-toggleable__label {background-color: #d4ebff;}#sk-container-id-3 input.sk-hidden--visually {border: 0;clip: rect(1px 1px 1px 1px);clip: rect(1px, 1px, 1px, 1px);height: 1px;margin: -1px;overflow: hidden;padding: 0;position: absolute;width: 1px;}#sk-container-id-3 div.sk-estimator {font-family: monospace;background-color: #f0f8ff;border: 1px dotted black;border-radius: 0.25em;box-sizing: border-box;margin-bottom: 0.5em;}#sk-container-id-3 div.sk-estimator:hover {background-color: #d4ebff;}#sk-container-id-3 div.sk-parallel-item::after {content: \"\";width: 100%;border-bottom: 1px solid gray;flex-grow: 1;}#sk-container-id-3 div.sk-label:hover label.sk-toggleable__label {background-color: #d4ebff;}#sk-container-id-3 div.sk-serial::before {content: \"\";position: absolute;border-left: 1px solid gray;box-sizing: border-box;top: 0;bottom: 0;left: 50%;z-index: 0;}#sk-container-id-3 div.sk-serial {display: flex;flex-direction: column;align-items: center;background-color: white;padding-right: 0.2em;padding-left: 0.2em;position: relative;}#sk-container-id-3 div.sk-item {position: relative;z-index: 1;}#sk-container-id-3 div.sk-parallel {display: flex;align-items: stretch;justify-content: center;background-color: white;position: relative;}#sk-container-id-3 div.sk-item::before, #sk-container-id-3 div.sk-parallel-item::before {content: \"\";position: absolute;border-left: 1px solid gray;box-sizing: border-box;top: 0;bottom: 0;left: 50%;z-index: -1;}#sk-container-id-3 div.sk-parallel-item {display: flex;flex-direction: column;z-index: 1;position: relative;background-color: white;}#sk-container-id-3 div.sk-parallel-item:first-child::after {align-self: flex-end;width: 50%;}#sk-container-id-3 div.sk-parallel-item:last-child::after {align-self: flex-start;width: 50%;}#sk-container-id-3 div.sk-parallel-item:only-child::after {width: 0;}#sk-container-id-3 div.sk-dashed-wrapped {border: 1px dashed gray;margin: 0 0.4em 0.5em 0.4em;box-sizing: border-box;padding-bottom: 0.4em;background-color: white;}#sk-container-id-3 div.sk-label label {font-family: monospace;font-weight: bold;display: inline-block;line-height: 1.2em;}#sk-container-id-3 div.sk-label-container {text-align: center;}#sk-container-id-3 div.sk-container {/* jupyter's `normalize.less` sets `[hidden] { display: none; }` but bootstrap.min.css set `[hidden] { display: none !important; }` so we also need the `!important` here to be able to override the default hidden behavior on the sphinx rendered scikit-learn.org. See: https://github.com/scikit-learn/scikit-learn/issues/21755 */display: inline-block !important;position: relative;}#sk-container-id-3 div.sk-text-repr-fallback {display: none;}</style><div id=\"sk-container-id-3\" class=\"sk-top-container\"><div class=\"sk-text-repr-fallback\"><pre>BisectingKMeans(n_clusters=4, n_init=10)</pre><b>In a Jupyter environment, please rerun this cell to show the HTML representation or trust the notebook. <br />On GitHub, the HTML representation is unable to render, please try loading this page with nbviewer.org.</b></div><div class=\"sk-container\" hidden><div class=\"sk-item\"><div class=\"sk-estimator sk-toggleable\"><input class=\"sk-toggleable__control sk-hidden--visually\" id=\"sk-estimator-id-3\" type=\"checkbox\" checked><label for=\"sk-estimator-id-3\" class=\"sk-toggleable__label sk-toggleable__label-arrow\">BisectingKMeans</label><div class=\"sk-toggleable__content\"><pre>BisectingKMeans(n_clusters=4, n_init=10)</pre></div></div></div></div></div>"
      ],
      "text/plain": [
       "BisectingKMeans(n_clusters=4, n_init=10)"
      ]
     },
     "execution_count": 27,
     "metadata": {},
     "output_type": "execute_result"
    }
   ],
   "source": [
    "from sklearn.cluster import BisectingKMeans\n",
    "Bikmean = BisectingKMeans(init=\"random\", n_clusters=4, n_init=10)\n",
    "Bikmean.fit(data_set)"
   ]
  },
  {
   "cell_type": "code",
   "execution_count": 28,
   "id": "ad930e7e",
   "metadata": {},
   "outputs": [],
   "source": [
    "Bi=Bikmean.labels_\n"
   ]
  },
  {
   "cell_type": "code",
   "execution_count": 29,
   "id": "603e26dd",
   "metadata": {},
   "outputs": [
    {
     "data": {
      "text/html": [
       "<style>#sk-container-id-4 {color: black;}#sk-container-id-4 pre{padding: 0;}#sk-container-id-4 div.sk-toggleable {background-color: white;}#sk-container-id-4 label.sk-toggleable__label {cursor: pointer;display: block;width: 100%;margin-bottom: 0;padding: 0.3em;box-sizing: border-box;text-align: center;}#sk-container-id-4 label.sk-toggleable__label-arrow:before {content: \"▸\";float: left;margin-right: 0.25em;color: #696969;}#sk-container-id-4 label.sk-toggleable__label-arrow:hover:before {color: black;}#sk-container-id-4 div.sk-estimator:hover label.sk-toggleable__label-arrow:before {color: black;}#sk-container-id-4 div.sk-toggleable__content {max-height: 0;max-width: 0;overflow: hidden;text-align: left;background-color: #f0f8ff;}#sk-container-id-4 div.sk-toggleable__content pre {margin: 0.2em;color: black;border-radius: 0.25em;background-color: #f0f8ff;}#sk-container-id-4 input.sk-toggleable__control:checked~div.sk-toggleable__content {max-height: 200px;max-width: 100%;overflow: auto;}#sk-container-id-4 input.sk-toggleable__control:checked~label.sk-toggleable__label-arrow:before {content: \"▾\";}#sk-container-id-4 div.sk-estimator input.sk-toggleable__control:checked~label.sk-toggleable__label {background-color: #d4ebff;}#sk-container-id-4 div.sk-label input.sk-toggleable__control:checked~label.sk-toggleable__label {background-color: #d4ebff;}#sk-container-id-4 input.sk-hidden--visually {border: 0;clip: rect(1px 1px 1px 1px);clip: rect(1px, 1px, 1px, 1px);height: 1px;margin: -1px;overflow: hidden;padding: 0;position: absolute;width: 1px;}#sk-container-id-4 div.sk-estimator {font-family: monospace;background-color: #f0f8ff;border: 1px dotted black;border-radius: 0.25em;box-sizing: border-box;margin-bottom: 0.5em;}#sk-container-id-4 div.sk-estimator:hover {background-color: #d4ebff;}#sk-container-id-4 div.sk-parallel-item::after {content: \"\";width: 100%;border-bottom: 1px solid gray;flex-grow: 1;}#sk-container-id-4 div.sk-label:hover label.sk-toggleable__label {background-color: #d4ebff;}#sk-container-id-4 div.sk-serial::before {content: \"\";position: absolute;border-left: 1px solid gray;box-sizing: border-box;top: 0;bottom: 0;left: 50%;z-index: 0;}#sk-container-id-4 div.sk-serial {display: flex;flex-direction: column;align-items: center;background-color: white;padding-right: 0.2em;padding-left: 0.2em;position: relative;}#sk-container-id-4 div.sk-item {position: relative;z-index: 1;}#sk-container-id-4 div.sk-parallel {display: flex;align-items: stretch;justify-content: center;background-color: white;position: relative;}#sk-container-id-4 div.sk-item::before, #sk-container-id-4 div.sk-parallel-item::before {content: \"\";position: absolute;border-left: 1px solid gray;box-sizing: border-box;top: 0;bottom: 0;left: 50%;z-index: -1;}#sk-container-id-4 div.sk-parallel-item {display: flex;flex-direction: column;z-index: 1;position: relative;background-color: white;}#sk-container-id-4 div.sk-parallel-item:first-child::after {align-self: flex-end;width: 50%;}#sk-container-id-4 div.sk-parallel-item:last-child::after {align-self: flex-start;width: 50%;}#sk-container-id-4 div.sk-parallel-item:only-child::after {width: 0;}#sk-container-id-4 div.sk-dashed-wrapped {border: 1px dashed gray;margin: 0 0.4em 0.5em 0.4em;box-sizing: border-box;padding-bottom: 0.4em;background-color: white;}#sk-container-id-4 div.sk-label label {font-family: monospace;font-weight: bold;display: inline-block;line-height: 1.2em;}#sk-container-id-4 div.sk-label-container {text-align: center;}#sk-container-id-4 div.sk-container {/* jupyter's `normalize.less` sets `[hidden] { display: none; }` but bootstrap.min.css set `[hidden] { display: none !important; }` so we also need the `!important` here to be able to override the default hidden behavior on the sphinx rendered scikit-learn.org. See: https://github.com/scikit-learn/scikit-learn/issues/21755 */display: inline-block !important;position: relative;}#sk-container-id-4 div.sk-text-repr-fallback {display: none;}</style><div id=\"sk-container-id-4\" class=\"sk-top-container\"><div class=\"sk-text-repr-fallback\"><pre>SpectralClustering(n_clusters=4)</pre><b>In a Jupyter environment, please rerun this cell to show the HTML representation or trust the notebook. <br />On GitHub, the HTML representation is unable to render, please try loading this page with nbviewer.org.</b></div><div class=\"sk-container\" hidden><div class=\"sk-item\"><div class=\"sk-estimator sk-toggleable\"><input class=\"sk-toggleable__control sk-hidden--visually\" id=\"sk-estimator-id-4\" type=\"checkbox\" checked><label for=\"sk-estimator-id-4\" class=\"sk-toggleable__label sk-toggleable__label-arrow\">SpectralClustering</label><div class=\"sk-toggleable__content\"><pre>SpectralClustering(n_clusters=4)</pre></div></div></div></div></div>"
      ],
      "text/plain": [
       "SpectralClustering(n_clusters=4)"
      ]
     },
     "execution_count": 29,
     "metadata": {},
     "output_type": "execute_result"
    }
   ],
   "source": [
    "from sklearn.cluster import SpectralClustering\n",
    "spec = SpectralClustering(n_clusters=4, n_init=10)\n",
    "spec.fit(data_set)"
   ]
  },
  {
   "cell_type": "code",
   "execution_count": 30,
   "id": "fc1c914e",
   "metadata": {},
   "outputs": [],
   "source": [
    "sp=spec.labels_"
   ]
  },
  {
   "cell_type": "code",
   "execution_count": 31,
   "id": "db485282",
   "metadata": {},
   "outputs": [
    {
     "name": "stdout",
     "output_type": "stream",
     "text": [
      "4\n"
     ]
    }
   ],
   "source": [
    "from sklearn.cluster import DBSCAN\n",
    "db = DBSCAN(eps=0.5, min_samples=22).fit(data_set)\n",
    "m=db.labels_\n",
    "print(len(set(db.labels_)))"
   ]
  },
  {
   "cell_type": "markdown",
   "id": "d67b0cd7",
   "metadata": {},
   "source": [
    "# min_samples=22, ep=0.5"
   ]
  },
  {
   "cell_type": "code",
   "execution_count": 32,
   "id": "75032e67",
   "metadata": {},
   "outputs": [],
   "source": [
    "from sklearn.cluster import AgglomerativeClustering\n",
    "clus_ward = AgglomerativeClustering(n_clusters=4,linkage='ward').fit(data_set)\n",
    "labb=clus_ward.labels_"
   ]
  },
  {
   "cell_type": "code",
   "execution_count": 33,
   "id": "759ff495",
   "metadata": {},
   "outputs": [
    {
     "data": {
      "text/plain": [
       "{0, 1, 2, 3}"
      ]
     },
     "execution_count": 33,
     "metadata": {},
     "output_type": "execute_result"
    }
   ],
   "source": [
    "set(labb)"
   ]
  },
  {
   "cell_type": "code",
   "execution_count": 34,
   "id": "191d4b13",
   "metadata": {},
   "outputs": [
    {
     "name": "stdout",
     "output_type": "stream",
     "text": [
      "{0, 1, 2, 3}\n"
     ]
    }
   ],
   "source": [
    "clus_single = AgglomerativeClustering(n_clusters=4,linkage='single').fit(data_set)\n",
    "labb_single=clus_single.labels_\n",
    "print(set(labb_single))"
   ]
  },
  {
   "cell_type": "code",
   "execution_count": 35,
   "id": "c2decc2a",
   "metadata": {},
   "outputs": [
    {
     "name": "stdout",
     "output_type": "stream",
     "text": [
      "{0, 1, 2, 3}\n"
     ]
    }
   ],
   "source": [
    "clus_complete = AgglomerativeClustering(n_clusters=4,linkage='complete').fit(data_set)\n",
    "labb_complete=clus_complete.labels_\n",
    "print(set(labb_complete))"
   ]
  },
  {
   "cell_type": "code",
   "execution_count": 36,
   "id": "62be717b",
   "metadata": {},
   "outputs": [
    {
     "name": "stdout",
     "output_type": "stream",
     "text": [
      "{0, 1, 2, 3}\n"
     ]
    }
   ],
   "source": [
    "clus_average = AgglomerativeClustering(n_clusters=4,linkage='average').fit(data_set)\n",
    "labb_average=clus_average.labels_\n",
    "print(set(labb_average))"
   ]
  },
  {
   "cell_type": "code",
   "execution_count": 37,
   "id": "9e7fc4d2",
   "metadata": {},
   "outputs": [],
   "source": [
    "z,s=[],[]"
   ]
  },
  {
   "cell_type": "code",
   "execution_count": 38,
   "id": "5b946244",
   "metadata": {},
   "outputs": [
    {
     "name": "stdout",
     "output_type": "stream",
     "text": [
      "kmeans fowlkes_mallows_score0.260099971069663 and silhouette_score0.3860372556224242\n"
     ]
    }
   ],
   "source": [
    "from sklearn.metrics.cluster import fowlkes_mallows_score\n",
    "from sklearn.metrics import silhouette_score\n",
    "z_kmean=fowlkes_mallows_score(clas,kmean_lab )\n",
    "si_kmean=silhouette_score(data_set,kmean_lab )\n",
    "print(f\"kmeans fowlkes_mallows_score{z_kmean} and silhouette_score{si_kmean}\")\n",
    "z.append(z_kmean)\n",
    "s.append(si_kmean)"
   ]
  },
  {
   "cell_type": "code",
   "execution_count": 39,
   "id": "f42fb100",
   "metadata": {},
   "outputs": [
    {
     "name": "stdout",
     "output_type": "stream",
     "text": [
      "kmeans++ fowlkes_mallows_score0.260099971069663 and silhouette_score0.3860372556224242\n"
     ]
    }
   ],
   "source": [
    "z_kmeanp=fowlkes_mallows_score(clas,kp )\n",
    "si_kmeanp=silhouette_score(data_set,kp )\n",
    "print(f\"kmeans++ fowlkes_mallows_score{z_kmeanp} and silhouette_score{si_kmeanp}\")\n",
    "z.append(z_kmeanp)\n",
    "s.append(si_kmean)"
   ]
  },
  {
   "cell_type": "code",
   "execution_count": 40,
   "id": "e8fd2d3e",
   "metadata": {},
   "outputs": [
    {
     "name": "stdout",
     "output_type": "stream",
     "text": [
      "Bisecting kmeans fowlkes_mallows_score0.26415645395055587 and silhouette_score0.3235563977256066\n"
     ]
    }
   ],
   "source": [
    "z_bi=fowlkes_mallows_score(clas,Bi )\n",
    "si_bi=silhouette_score(data_set,Bi )\n",
    "print(f\"Bisecting kmeans fowlkes_mallows_score{z_bi} and silhouette_score{si_bi}\")\n",
    "z.append(z_bi)\n",
    "s.append(si_kmean)"
   ]
  },
  {
   "cell_type": "code",
   "execution_count": 41,
   "id": "3d4e617d",
   "metadata": {},
   "outputs": [
    {
     "name": "stdout",
     "output_type": "stream",
     "text": [
      "spectral fowlkes_mallows_score0.26814316149844447 and silhouette_score0.3688567080080717\n"
     ]
    }
   ],
   "source": [
    "z_sp=fowlkes_mallows_score(clas,sp )\n",
    "si_sp=silhouette_score(data_set,sp )\n",
    "print(f\"spectral fowlkes_mallows_score{z_sp} and silhouette_score{si_sp}\")\n",
    "z.append(z_sp)\n",
    "s.append(si_sp)"
   ]
  },
  {
   "cell_type": "code",
   "execution_count": 42,
   "id": "29f0e694",
   "metadata": {},
   "outputs": [
    {
     "name": "stdout",
     "output_type": "stream",
     "text": [
      "DBSCAN fowlkes_mallows_score0.3448185065139945 and silhouette_score-0.021935265572819454\n"
     ]
    }
   ],
   "source": [
    "z_db=fowlkes_mallows_score(clas, m)\n",
    "si_db=silhouette_score(data_set,m )\n",
    "print(f\"DBSCAN fowlkes_mallows_score{z_db} and silhouette_score{si_db}\")\n",
    "z.append(z_db)\n",
    "s.append(si_db)"
   ]
  },
  {
   "cell_type": "code",
   "execution_count": 43,
   "id": "56a212de",
   "metadata": {},
   "outputs": [
    {
     "name": "stdout",
     "output_type": "stream",
     "text": [
      "Agglomerative clustering ward fowlkes_mallows_score0.27848809911961486 and silhouette_score0.30175361784010957\n"
     ]
    }
   ],
   "source": [
    "z_w=fowlkes_mallows_score(clas, labb)\n",
    "si_w=silhouette_score(data_set,labb )\n",
    "print(f\"Agglomerative clustering ward fowlkes_mallows_score{z_w} and silhouette_score{si_w}\")\n",
    "z.append(z_w)\n",
    "s.append(si_w)"
   ]
  },
  {
   "cell_type": "code",
   "execution_count": 44,
   "id": "36dd310d",
   "metadata": {},
   "outputs": [
    {
     "name": "stdout",
     "output_type": "stream",
     "text": [
      "Agglomerative clustering single fowlkes_mallows_score0.4982613464381047 and silhouette_score-0.06928873043036547\n"
     ]
    }
   ],
   "source": [
    "z_s=fowlkes_mallows_score(clas, labb_single)\n",
    "si_s=silhouette_score(data_set,labb_single )\n",
    "print(f\"Agglomerative clustering single fowlkes_mallows_score{z_s} and silhouette_score{si_s}\")\n",
    "z.append(z_s)\n",
    "s.append(si_s)"
   ]
  },
  {
   "cell_type": "code",
   "execution_count": 45,
   "id": "8eac74dd",
   "metadata": {},
   "outputs": [
    {
     "name": "stdout",
     "output_type": "stream",
     "text": [
      "Agglomerative clustering complete fowlkes_mallows_score0.2669003337980466 and silhouette_score0.3128307359014043\n"
     ]
    }
   ],
   "source": [
    "z_c=fowlkes_mallows_score(clas, labb_complete)\n",
    "si_c=silhouette_score(data_set,labb_complete )\n",
    "print(f\"Agglomerative clustering complete fowlkes_mallows_score{z_c} and silhouette_score{si_c}\")\n",
    "z.append(z_c)\n",
    "s.append(si_c)"
   ]
  },
  {
   "cell_type": "code",
   "execution_count": 46,
   "id": "22de3f4b",
   "metadata": {},
   "outputs": [
    {
     "name": "stdout",
     "output_type": "stream",
     "text": [
      "Agglomerative clustering average fowlkes_mallows_score0.2864314198602307 and silhouette_score0.3104938000147617\n"
     ]
    }
   ],
   "source": [
    "z_a=fowlkes_mallows_score(clas, labb_average)\n",
    "si_a=silhouette_score(data_set,labb_average )\n",
    "print(f\"Agglomerative clustering average fowlkes_mallows_score{z_a} and silhouette_score{si_a}\")\n",
    "z.append(z_a)\n",
    "s.append(si_a)"
   ]
  },
  {
   "cell_type": "code",
   "execution_count": 47,
   "id": "7f57f902",
   "metadata": {},
   "outputs": [],
   "source": [
    "zip_data= zip([\"z_kmean\",\"z_kmeanp\",\"z_bi\",\"z_sp\",\"z_db\",\"z_w\",\"z_s\",\"z_c\",\"z_a\"],z)\n",
    "sorted_data = sorted(zip_data, key=lambda x: x[1])\n",
    "    "
   ]
  },
  {
   "cell_type": "code",
   "execution_count": 48,
   "id": "7977ff74",
   "metadata": {},
   "outputs": [
    {
     "data": {
      "text/plain": [
       "[('z_kmean', 0.260099971069663),\n",
       " ('z_kmeanp', 0.260099971069663),\n",
       " ('z_bi', 0.26415645395055587),\n",
       " ('z_c', 0.2669003337980466),\n",
       " ('z_sp', 0.26814316149844447),\n",
       " ('z_w', 0.27848809911961486),\n",
       " ('z_a', 0.2864314198602307),\n",
       " ('z_db', 0.3448185065139945),\n",
       " ('z_s', 0.4982613464381047)]"
      ]
     },
     "execution_count": 48,
     "metadata": {},
     "output_type": "execute_result"
    }
   ],
   "source": [
    "sorted_data"
   ]
  },
  {
   "cell_type": "code",
   "execution_count": 49,
   "id": "4f8ab879",
   "metadata": {},
   "outputs": [],
   "source": [
    "# Based on the fowlkes_mallows_score, spectral clustering performs better as it has high value\n",
    "# Based on the fowlkes_mallows_score, kmeans performs worst as it has low value"
   ]
  },
  {
   "cell_type": "code",
   "execution_count": 50,
   "id": "dba1d483",
   "metadata": {},
   "outputs": [],
   "source": [
    "zip_data= zip([\"si_kmean\",\"si_kmeanp\",\"si_bi\",\"si_sp\",\"si_db\",\"si_w\",\"si_s\",\"si_c\",\"si_a\"],s)\n",
    "sorted_data = sorted(zip_data, key=lambda x: x[1])"
   ]
  },
  {
   "cell_type": "code",
   "execution_count": 51,
   "id": "4e3089cc",
   "metadata": {},
   "outputs": [
    {
     "data": {
      "text/plain": [
       "[('si_s', -0.06928873043036547),\n",
       " ('si_db', -0.021935265572819454),\n",
       " ('si_w', 0.30175361784010957),\n",
       " ('si_a', 0.3104938000147617),\n",
       " ('si_c', 0.3128307359014043),\n",
       " ('si_sp', 0.3688567080080717),\n",
       " ('si_kmean', 0.3860372556224242),\n",
       " ('si_kmeanp', 0.3860372556224242),\n",
       " ('si_bi', 0.3860372556224242)]"
      ]
     },
     "execution_count": 51,
     "metadata": {},
     "output_type": "execute_result"
    }
   ],
   "source": [
    "sorted_data"
   ]
  },
  {
   "cell_type": "code",
   "execution_count": 52,
   "id": "e991ac5a",
   "metadata": {},
   "outputs": [],
   "source": [
    "# Based on the silhouette_score, Agglomerative single ward performs worst as it has low value\n",
    "# Based on the silhouette_score, bisecting kmeans performs best as it has high value"
   ]
  },
  {
   "cell_type": "markdown",
   "id": "1f3f6c12",
   "metadata": {},
   "source": [
    "# Reference"
   ]
  },
  {
   "cell_type": "markdown",
   "id": "75145d8b",
   "metadata": {},
   "source": [
    "# https://kozodoi.me/blog/20210527/extracting-features\n",
    "# https://scikit-learn.org/stable/modules/clustering.html"
   ]
  },
  {
   "cell_type": "code",
   "execution_count": null,
   "id": "0b3d036a",
   "metadata": {},
   "outputs": [],
   "source": []
  }
 ],
 "metadata": {
  "kernelspec": {
   "display_name": "Python 3 (ipykernel)",
   "language": "python",
   "name": "python3"
  },
  "language_info": {
   "codemirror_mode": {
    "name": "ipython",
    "version": 3
   },
   "file_extension": ".py",
   "mimetype": "text/x-python",
   "name": "python",
   "nbconvert_exporter": "python",
   "pygments_lexer": "ipython3",
   "version": "3.11.5"
  }
 },
 "nbformat": 4,
 "nbformat_minor": 5
}
